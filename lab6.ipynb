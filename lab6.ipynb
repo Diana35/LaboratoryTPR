{
 "cells": [
  {
   "cell_type": "markdown",
   "metadata": {},
   "source": [
    "Задание 1\n",
    "Скачайте с сайта https://grouplens.org/datasets/movielens/ датасет любого размера. Определите какому фильму было выставлено больше всего оценок 5.0.\n"
   ]
  },
  {
   "cell_type": "code",
   "execution_count": 8,
   "metadata": {},
   "outputs": [
    {
     "data": {
      "text/plain": [
       "318    39553\n",
       "Name: movieId, dtype: int64"
      ]
     },
     "execution_count": 8,
     "metadata": {},
     "output_type": "execute_result"
    }
   ],
   "source": [
    "import pandas as pd\n",
    "\n",
    "movies = pd.read_csv(\"movies.csv\")\n",
    "ratings = pd.read_csv(\"ratings.csv\")\n",
    "\n",
    "ratings5 = ratings[ratings.rating == 5]\n",
    "\n",
    "ratings5['movieId'].value_counts().head(1)\n"
   ]
  },
  {
   "cell_type": "markdown",
   "metadata": {},
   "source": [
    "Задание 2\n",
    "По данным файла power.csv посчитайте суммарное потребление стран Прибалтики (Латвия, Литва и Эстония) категорий 4, 12 и 21 за период с 2005 по 2010 года. Не учитывайте в расчетах отрицательные значения quantity."
   ]
  },
  {
   "cell_type": "code",
   "execution_count": 11,
   "metadata": {},
   "outputs": [
    {
     "name": "stdout",
     "output_type": "stream",
     "text": [
      "240580.0\n"
     ]
    }
   ],
   "source": [
    "import pandas as pd\n",
    "\n",
    "power = pd.read_csv(\"power.csv\")\n",
    "\n",
    "filt = power.query('country == [\"Latvia\", \"Lithuania\", \"Estonia\"] and category == [4, 12, 21] and year >= 2005 and year <= 2010 and quantity > 0')\n",
    "\n",
    "print(filt.quantity.sum())"
   ]
  },
  {
   "cell_type": "markdown",
   "metadata": {},
   "source": [
    "Задание 3\n",
    "Выберите страницу любого сайта с табличными данными. Импортируйте таблицы в pandas dataframe.\n",
    "Примеры страниц (необязательно брать именно эти):\n",
    "https://fortrader.org/quotes\n",
    "https://www.finanz.ru/valyuty/v-realnom-vremeni"
   ]
  },
  {
   "cell_type": "code",
   "execution_count": 13,
   "metadata": {},
   "outputs": [
    {
     "data": {
      "text/plain": [
       "[    Unnamed: 0                    Драгметаллы  Посл. зн.  Пред. закр.  \\\n",
       " 0          NaN                         Золото   1 882,00     1 878,30   \n",
       " 1          NaN                       Палладий   2 358,50     2 359,50   \n",
       " 2          NaN                        Платина      86000        85500   \n",
       " 3          NaN                        Серебро       2344         2307   \n",
       " 4          NaN                 Энергоносители  Посл. зн.  Пред. закр.   \n",
       " 5          NaN      Природный газ (Henry Hub)        252          251   \n",
       " 6          NaN                          Мазут       3091         3091   \n",
       " 7          NaN                  Нефть (Brent)       4193         4186   \n",
       " 8          NaN                    Нефть (WTI)       3984         3983   \n",
       " 9          NaN                        Металлы  Посл. зн.  Пред. закр.   \n",
       " 10         NaN                       Алюминий   1 764,80     1 776,20   \n",
       " 11         NaN                         Свинец   1 759,00     1 744,35   \n",
       " 12         NaN                         Никель  14 642,00    14 359,00   \n",
       " 13         NaN                           Цинк   2 331,00     2 298,00   \n",
       " 14         NaN                  C/x продукция  Посл. зн.  Пред. закр.   \n",
       " 15         NaN                         Хлопок        064          064   \n",
       " 16         NaN                           Овёс        291          292   \n",
       " 17         NaN                           Кофе        108          108   \n",
       " 18         NaN                          Какао   1 695,00     1 724,00   \n",
       " 19         NaN                       Кукуруза        385          385   \n",
       " 20         NaN          Замороженная говядина        138          140   \n",
       " 21         NaN                         Молоко       2050         2064   \n",
       " 22         NaN  Концентрат апельсинового сока        114          114   \n",
       " 23         NaN                    Соевые бобы       1041         1043   \n",
       " 24         NaN                        Пшеница      20025        19825   \n",
       " 25         NaN                          Сахар        014          014   \n",
       " \n",
       "     Изменение (%)  Изменение       Время             Ед. измерения  \n",
       " 0          0,20 %        370    06:19:00        USD/Тройская унция  \n",
       " 1         -0,04 %       -100    06:06:00        USD/Тройская унция  \n",
       " 2          0,58 %        500    06:18:00        USD/Тройская унция  \n",
       " 3          1,61 %        037    06:19:00        USD/Тройская унция  \n",
       " 4   Изменение (%)  Изменение       Время             Ед. измерения  \n",
       " 5          0,24 %        001    06:09:00               USD/млн БТЕ  \n",
       " 6          0,00 %        000    06:07:00            USD/100 литров  \n",
       " 7          0,17 %        007    06:09:00               USD/Баррель  \n",
       " 8          0,03 %        001    06:09:00               USD/Баррель  \n",
       " 9   Изменение (%)  Изменение       Время             Ед. измерения  \n",
       " 10        -0,64 %      -1140  06.10.2020                 USD/Тонна  \n",
       " 11         0,84 %       1465  06.10.2020                 USD/Тонна  \n",
       " 12         1,97 %      28300  06.10.2020                 USD/Тонна  \n",
       " 13         1,44 %       3300  06.10.2020                 USD/Тонна  \n",
       " 14  Изменение (%)  Изменение       Время             Ед. измерения  \n",
       " 15         0,05 %        000  23.09.2020                  USc/Фунт  \n",
       " 16        -0,26 %       -001    05:51:00                USc/Бушель  \n",
       " 17        -0,37 %        000  06.10.2020                  USc/Фунт  \n",
       " 18        -1,68 %      -2900  06.10.2020                 GBP/Тонна  \n",
       " 19         0,13 %        001    06:09:00                USc/Бушель  \n",
       " 20        -1,69 %       -002  06.10.2020                  USc/Фунт  \n",
       " 21        -0,68 %       -014  06.10.2020  USD/Американский центнер  \n",
       " 22         0,18 %        000  06.10.2020                  USc/Фунт  \n",
       " 23        -0,22 %       -002    06:09:00                USc/Бушель  \n",
       " 24         1,01 %        200  06.10.2020                 USc/Тонна  \n",
       " 25         2,14 %        000  06.10.2020                  USc/Фунт  ]"
      ]
     },
     "execution_count": 13,
     "metadata": {},
     "output_type": "execute_result"
    }
   ],
   "source": [
    "import pandas as pd\n",
    "\n",
    "page_url = 'https://www.finanz.ru/birzhevyye-tovary/v-realnom-vremeni'\n",
    "\n",
    "\n",
    "temp = pd.read_html(page_url, attrs = {'class': 'quote_list'}, encoding='utf-8')\n",
    "\n",
    "temp[:2]"
   ]
  },
  {
   "cell_type": "markdown",
   "metadata": {},
   "source": [
    "Задание 4\n",
    "Напишите функцию, которая классифицирует фильмы из материалов занятия по следующим правилам:\n",
    "- оценка 2 и меньше - низкий рейтинг\n",
    "- оценка 4 и меньше - средний рейтинг\n",
    "- оценка 4.5 и 5 - высокий рейтинг\n",
    "\n",
    "Результат классификации запишите в столбец class"
   ]
  },
  {
   "cell_type": "code",
   "execution_count": 20,
   "metadata": {},
   "outputs": [
    {
     "data": {
      "text/html": [
       "<div>\n",
       "<style scoped>\n",
       "    .dataframe tbody tr th:only-of-type {\n",
       "        vertical-align: middle;\n",
       "    }\n",
       "\n",
       "    .dataframe tbody tr th {\n",
       "        vertical-align: top;\n",
       "    }\n",
       "\n",
       "    .dataframe thead th {\n",
       "        text-align: right;\n",
       "    }\n",
       "</style>\n",
       "<table border=\"1\" class=\"dataframe\">\n",
       "  <thead>\n",
       "    <tr style=\"text-align: right;\">\n",
       "      <th></th>\n",
       "      <th>title</th>\n",
       "      <th>movieId</th>\n",
       "      <th>rating</th>\n",
       "      <th>class</th>\n",
       "    </tr>\n",
       "  </thead>\n",
       "  <tbody>\n",
       "    <tr>\n",
       "      <th>0</th>\n",
       "      <td>\"BLOW THE NIGHT!\" Let's Spend the Night Togeth...</td>\n",
       "      <td>208297</td>\n",
       "      <td>3.000000</td>\n",
       "      <td>средний рейтинг</td>\n",
       "    </tr>\n",
       "    <tr>\n",
       "      <th>1</th>\n",
       "      <td>\"Great Performances\" Cats (1998)</td>\n",
       "      <td>51372</td>\n",
       "      <td>2.896648</td>\n",
       "      <td>средний рейтинг</td>\n",
       "    </tr>\n",
       "    <tr>\n",
       "      <th>2</th>\n",
       "      <td>#1 Cheerleader Camp (2010)</td>\n",
       "      <td>136604</td>\n",
       "      <td>2.111111</td>\n",
       "      <td>средний рейтинг</td>\n",
       "    </tr>\n",
       "    <tr>\n",
       "      <th>3</th>\n",
       "      <td>#Captured (2017)</td>\n",
       "      <td>183901</td>\n",
       "      <td>3.750000</td>\n",
       "      <td>средний рейтинг</td>\n",
       "    </tr>\n",
       "    <tr>\n",
       "      <th>4</th>\n",
       "      <td>#Female Pleasure (2018)</td>\n",
       "      <td>195955</td>\n",
       "      <td>3.666667</td>\n",
       "      <td>средний рейтинг</td>\n",
       "    </tr>\n",
       "  </tbody>\n",
       "</table>\n",
       "</div>"
      ],
      "text/plain": [
       "                                               title  movieId    rating  \\\n",
       "0  \"BLOW THE NIGHT!\" Let's Spend the Night Togeth...   208297  3.000000   \n",
       "1                   \"Great Performances\" Cats (1998)    51372  2.896648   \n",
       "2                         #1 Cheerleader Camp (2010)   136604  2.111111   \n",
       "3                                   #Captured (2017)   183901  3.750000   \n",
       "4                            #Female Pleasure (2018)   195955  3.666667   \n",
       "\n",
       "             class  \n",
       "0  средний рейтинг  \n",
       "1  средний рейтинг  \n",
       "2  средний рейтинг  \n",
       "3  средний рейтинг  \n",
       "4  средний рейтинг  "
      ]
     },
     "execution_count": 20,
     "metadata": {},
     "output_type": "execute_result"
    }
   ],
   "source": [
    "movies = pd.read_csv('movies.csv')\n",
    "ratings = pd.read_csv('ratings.csv')\n",
    "al = ratings.merge(movies, on=[\"movieId\"], how='inner')\n",
    "f = al.pivot_table(index=['title','movieId'], values = 'rating', aggfunc='mean')\n",
    "f.head()\n",
    "\n",
    "f=f.reset_index()\n",
    "\n",
    "\n",
    "def classification(i):\n",
    "    if i  <= 2:\n",
    "        return 'низкий рейтинг'\n",
    "    elif i  <= 4 and i >2:\n",
    "        return 'средний рейтинг'\n",
    "    elif i  >4.5:\n",
    "        return 'высокий рейтинг'\n",
    "    \n",
    "\n",
    "f['class'] = f['rating'].apply(classification)\n",
    "f.head()"
   ]
  },
  {
   "cell_type": "markdown",
   "metadata": {},
   "source": [
    "Задание 5\n",
    "Используем файл keywords.csv.\n",
    "\n",
    "Необходимо написать гео-классификатор, который каждой строке сможет выставить географическую принадлежность определенному региону. Т. е. если поисковый запрос содержит название города региона, то в столбце ‘region’ пишется название этого региона. Если поисковый запрос не содержит названия города, то ставим ‘undefined’.\n",
    "\n",
    "Правила распределения по регионам Центр, Северо-Запад и Дальний Восток:\n",
    "\n",
    "geo_data = {\n",
    "'Центр': ['москва', 'тула', 'ярославль'],\n",
    "'Северо-Запад': ['петербург', 'псков', 'мурманск'],\n",
    "'Дальний Восток': ['владивосток', 'сахалин', 'хабаровск']\n",
    "}\n",
    "\n",
    "Результат классификации запишите в отдельный столбец region.\n"
   ]
  },
  {
   "cell_type": "code",
   "execution_count": 18,
   "metadata": {},
   "outputs": [
    {
     "data": {
      "text/html": [
       "<div>\n",
       "<style scoped>\n",
       "    .dataframe tbody tr th:only-of-type {\n",
       "        vertical-align: middle;\n",
       "    }\n",
       "\n",
       "    .dataframe tbody tr th {\n",
       "        vertical-align: top;\n",
       "    }\n",
       "\n",
       "    .dataframe thead th {\n",
       "        text-align: right;\n",
       "    }\n",
       "</style>\n",
       "<table border=\"1\" class=\"dataframe\">\n",
       "  <thead>\n",
       "    <tr style=\"text-align: right;\">\n",
       "      <th></th>\n",
       "      <th>keyword</th>\n",
       "      <th>shows</th>\n",
       "      <th>region</th>\n",
       "    </tr>\n",
       "  </thead>\n",
       "  <tbody>\n",
       "    <tr>\n",
       "      <th>0</th>\n",
       "      <td>вк</td>\n",
       "      <td>64292779</td>\n",
       "      <td>undefined</td>\n",
       "    </tr>\n",
       "    <tr>\n",
       "      <th>1</th>\n",
       "      <td>одноклассники</td>\n",
       "      <td>63810309</td>\n",
       "      <td>undefined</td>\n",
       "    </tr>\n",
       "    <tr>\n",
       "      <th>2</th>\n",
       "      <td>порно</td>\n",
       "      <td>41747114</td>\n",
       "      <td>undefined</td>\n",
       "    </tr>\n",
       "    <tr>\n",
       "      <th>3</th>\n",
       "      <td>ютуб</td>\n",
       "      <td>39995567</td>\n",
       "      <td>undefined</td>\n",
       "    </tr>\n",
       "    <tr>\n",
       "      <th>4</th>\n",
       "      <td>вконтакте</td>\n",
       "      <td>21014195</td>\n",
       "      <td>undefined</td>\n",
       "    </tr>\n",
       "  </tbody>\n",
       "</table>\n",
       "</div>"
      ],
      "text/plain": [
       "         keyword     shows     region\n",
       "0             вк  64292779  undefined\n",
       "1  одноклассники  63810309  undefined\n",
       "2          порно  41747114  undefined\n",
       "3           ютуб  39995567  undefined\n",
       "4      вконтакте  21014195  undefined"
      ]
     },
     "execution_count": 18,
     "metadata": {},
     "output_type": "execute_result"
    }
   ],
   "source": [
    "import pandas as pd\n",
    "\n",
    "keywords = pd.read_csv('keywords.csv')\n",
    "keywords.head()\n",
    "\n",
    "geo_data = {\n",
    "\n",
    "    'Центр': ['москва', 'тула', 'ярославль'],\n",
    "\n",
    "    'Северо-Запад': ['петербург', 'псков', 'мурманск'],\n",
    "\n",
    "    'Дальний Восток': ['владивосток', 'сахалин', 'хабаровск']\n",
    "\n",
    "}\n",
    "\n",
    "temp = {}\n",
    "\n",
    "for region in geo_data:\n",
    "    \n",
    "    spisok_gorodov = geo_data[region]\n",
    "    \n",
    "    temp.update({key:value for key,value in zip(spisok_gorodov, [region for i in spisok_gorodov])})\n",
    "\n",
    "keywords['region'] = keywords['keyword'].map(temp)\n",
    "keywords['region'] = keywords['region'].fillna('undefined')\n",
    "keywords.head()"
   ]
  },
  {
   "cell_type": "markdown",
   "metadata": {},
   "source": [
    "Задание 6\n",
    "Есть мнение, что “раньше снимали настоящее кино, не то что сейчас”. Ваша задача проверить это утверждение, используя файлы с рейтингами фильмов из прошлого домашнего занятия (файл ratings.csv из базы https://grouplens.org/datasets/movielens). Т. е. проверить верно ли, что с ростом года выпуска фильма его средний рейтинг становится ниже.\n",
    "\n",
    "При этом мы не будем затрагивать субьективные факторы выставления этих рейтингов, а пройдемся по следующему алгоритму:\n",
    "\n",
    "В переменную years запишите список из всех годов с 1950 по 2010.\n",
    "\n",
    "Напишите функцию production_year, которая каждой строке из названия фильма выставляет год выпуска. Не все названия фильмов содержат год выпуска в одинаковом формате, поэтому используйте следующий алгоритм:\n",
    "\n",
    "для каждой строки пройдите по всем годам списка years\n",
    "если номер года присутствует в названии фильма, то функция возвращает этот год как год выпуска\n",
    "если ни один из номеров года списка years не встретился в названии фильма, то возвращается 1900 год\n",
    "Запишите год выпуска фильма по алгоритму пункта 2 в новый столбец ‘year’\n",
    "\n",
    "Посчитайте средний рейтинг всех фильмов для каждого значения столбца ‘year’ и отсортируйте результат по убыванию рейтинга"
   ]
  },
  {
   "cell_type": "code",
   "execution_count": 21,
   "metadata": {},
   "outputs": [
    {
     "name": "stdout",
     "output_type": "stream",
     "text": [
      "[1, 2, 3, 4, 5, 6, 7, 8, 9, 10, 11, 12, 13, 14, 15, 16, 17, 18, 19, 20, 21, 22, 23, 24, 25, 26, 27, 28, 29, 30, 31, 32, 33, 34, 35, 36, 37, 38, 39, 40, 41, 42, 43, 44, 45, 46, 47, 48, 49, 50, 51, 52, 53, 54, 55, 56, 57, 58, 59, 60]\n"
     ]
    },
    {
     "data": {
      "text/html": [
       "<div>\n",
       "<style scoped>\n",
       "    .dataframe tbody tr th:only-of-type {\n",
       "        vertical-align: middle;\n",
       "    }\n",
       "\n",
       "    .dataframe tbody tr th {\n",
       "        vertical-align: top;\n",
       "    }\n",
       "\n",
       "    .dataframe thead th {\n",
       "        text-align: right;\n",
       "    }\n",
       "</style>\n",
       "<table border=\"1\" class=\"dataframe\">\n",
       "  <thead>\n",
       "    <tr style=\"text-align: right;\">\n",
       "      <th></th>\n",
       "      <th>rating</th>\n",
       "    </tr>\n",
       "    <tr>\n",
       "      <th>year</th>\n",
       "      <th></th>\n",
       "    </tr>\n",
       "  </thead>\n",
       "  <tbody>\n",
       "    <tr>\n",
       "      <th>1957</th>\n",
       "      <td>3.999492</td>\n",
       "    </tr>\n",
       "    <tr>\n",
       "      <th>1954</th>\n",
       "      <td>3.985693</td>\n",
       "    </tr>\n",
       "    <tr>\n",
       "      <th>1972</th>\n",
       "      <td>3.956477</td>\n",
       "    </tr>\n",
       "    <tr>\n",
       "      <th>1962</th>\n",
       "      <td>3.929445</td>\n",
       "    </tr>\n",
       "    <tr>\n",
       "      <th>1952</th>\n",
       "      <td>3.895315</td>\n",
       "    </tr>\n",
       "  </tbody>\n",
       "</table>\n",
       "</div>"
      ],
      "text/plain": [
       "        rating\n",
       "year          \n",
       "1957  3.999492\n",
       "1954  3.985693\n",
       "1972  3.956477\n",
       "1962  3.929445\n",
       "1952  3.895315"
      ]
     },
     "execution_count": 21,
     "metadata": {},
     "output_type": "execute_result"
    }
   ],
   "source": [
    "movies = pd.read_csv('movies.csv')\n",
    "ratings = pd.read_csv('ratings.csv')\n",
    "al = ratings.merge(movies, on=[\"movieId\"], how='inner')\n",
    "al.head()\n",
    "\n",
    "\n",
    "years = []\n",
    "for year in range(1950,2010):\n",
    "    years.append(year)\n",
    "    \n",
    "number = len(years)\n",
    "j = []\n",
    "for i in range(1,number+1):\n",
    "    j.append(i)\n",
    "print (j)\n",
    "\n",
    "def Years (title):\n",
    "    for year in years:\n",
    "        if str(year) in title:\n",
    "            return year\n",
    "\n",
    "    return 1900\n",
    "\n",
    "al['year'] = al['title'].apply(Years)\n",
    "al.head()\n",
    "\n",
    "f = al.pivot_table(index=['year'], values = 'rating', aggfunc='mean')\n",
    "f_sorted = f.sort_values(by = ['rating'], ascending = False)\n",
    "f_sorted.head()"
   ]
  },
  {
   "cell_type": "code",
   "execution_count": null,
   "metadata": {},
   "outputs": [],
   "source": []
  }
 ],
 "metadata": {
  "kernelspec": {
   "display_name": "Python 3",
   "language": "python",
   "name": "python3"
  },
  "language_info": {
   "codemirror_mode": {
    "name": "ipython",
    "version": 3
   },
   "file_extension": ".py",
   "mimetype": "text/x-python",
   "name": "python",
   "nbconvert_exporter": "python",
   "pygments_lexer": "ipython3",
   "version": "3.8.3"
  }
 },
 "nbformat": 4,
 "nbformat_minor": 4
}
