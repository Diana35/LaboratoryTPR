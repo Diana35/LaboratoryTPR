{
 "cells": [
  {
   "cell_type": "code",
   "execution_count": null,
   "metadata": {},
   "outputs": [],
   "source": [
    "# Домашнее задание к лекции \"Основы Python\""
   ]
  },
  {
   "cell_type": "code",
   "execution_count": null,
   "metadata": {},
   "outputs": [],
   "source": [
    "## Задание 1"
   ]
  },
  {
   "cell_type": "markdown",
   "metadata": {},
   "source": [
    "Даны 2 переменных, в которых хранятся строки произвольной длины: *phrase_1* и *phrase_2*.  \n",
    "Напишите код, который проверяет какая из этих строк длиннее."
   ]
  },
  {
   "cell_type": "code",
   "execution_count": 2,
   "metadata": {},
   "outputs": [
    {
     "name": "stdout",
     "output_type": "stream",
     "text": [
      "Идет дождь\n",
      "Идет сильный дождь\n",
      "Фраза 2 длинне фразы 1\n"
     ]
    }
   ],
   "source": [
    "phrase_1 = input()\n",
    "phrase_2 = input()\n",
    "if len(phrase_1)>len(phrase_2):\n",
    "    print('Фраза 1 длинне фразы 2')\n",
    "elif len(phrase_1)<len(phrase_2):\n",
    "    print('Фраза 2 длинне фразы 1')\n",
    "else: print('Фразы равной длины')"
   ]
  },
  {
   "cell_type": "markdown",
   "metadata": {},
   "source": [
    "## Задание 2"
   ]
  },
  {
   "cell_type": "code",
   "execution_count": 5,
   "metadata": {},
   "outputs": [
    {
     "name": "stdout",
     "output_type": "stream",
     "text": [
      "2020\n",
      "Високосный год\n"
     ]
    }
   ],
   "source": [
    "\n",
    "year=int(input())\n",
    "if year%4==0:\n",
    "    print('Високосный год')\n",
    "else: print('Обычный год')"
   ]
  },
  {
   "cell_type": "markdown",
   "metadata": {},
   "source": [
    "## Задание 3"
   ]
  },
  {
   "cell_type": "code",
   "execution_count": 7,
   "metadata": {},
   "outputs": [
    {
     "name": "stdout",
     "output_type": "stream",
     "text": [
      "Введите день рождения:26\n",
      "Введите месяц рождения:Январь\n",
      "Ваш знак зодиака: Водолей\n"
     ]
    }
   ],
   "source": [
    "day=int(input('Введите день рождения:'))\n",
    "month=str(input('Введите месяц рождения:'))\n",
    "\n",
    "if (day>=21 and month=='Январь') or (day<=18 and month=='Февраль'):\n",
    "    print('Ваш знак зодиака: Водолей')\n",
    "elif (day>=19 and month=='Февраль') or (day<=20 and month=='Март'):\n",
    "    print('Ваш знак зодиака: Рыбы')\n",
    "elif (day>=21 and month=='Март') or (day<=19 and month=='Апрель'):\n",
    "    print('Ваш знак зодиака: Овен')\n",
    "elif (day>=20 and month=='Апрель') or (day<=20 and month=='Май'):\n",
    "    print('Ваш знак зодиака: Телец')\n",
    "elif (day>=21 and month=='Май') or (day<=21 and month=='Июнь'):\n",
    "    print('Ваш знак зодиака: Близнецы')\n",
    "elif (day>=22 and month=='Июнь') or (day<=22 and month=='Июль'):\n",
    "    print('Ваш знак зодиака: Рак')\n",
    "elif (day>=23 and month=='Июль') or (day<=22 and month=='Август'):\n",
    "    print('Ваш знак зодиака: Лев')\n",
    "elif (day>=23 and month=='Август') or (day<=22 and month=='Сентябрь'):\n",
    "    print('Ваш знак зодиака: Дева')\n",
    "elif (day>=23 and month=='Сентябрь') or (day<=23 and month=='Октябрь'):\n",
    "    print('Ваш знак зодиака: Весы')\n",
    "elif (day>=24 and month=='Октябрь') or (day<=22 and month=='Ноябрь'):\n",
    "    print('Ваш знак зодиака: Скорпион')\n",
    "elif (day>=23 and month=='Ноябрь') or (day<=21 and month=='Декабрь'):\n",
    "    print('Ваш знак зодиака: Стрелец')\n",
    "elif (day>=22 and month=='Декабрь') or (day<=20 and month=='Январь'):\n",
    "    print('Ваш знак зодиака: Козерог')\n"
   ]
  },
  {
   "cell_type": "markdown",
   "metadata": {},
   "source": [
    "## Задание 4"
   ]
  },
  {
   "cell_type": "code",
   "execution_count": 10,
   "metadata": {},
   "outputs": [
    {
     "name": "stdout",
     "output_type": "stream",
     "text": [
      "Вес:15\n",
      "Длина:20\n",
      "Высота:6\n",
      "Коробка №2\n"
     ]
    }
   ],
   "source": [
    "width =int(input(\"Вес:\"))\n",
    "length =int(input (\"Длина:\"))\n",
    "height = int(input (\"Высота:\"))\n",
    "if width < 15 and length < 15 and heigth < 15:\n",
    "    print('Коробка №1')\n",
    "elif 15 < width < 50 or 15< length < 50 or 15 < height < 50:\n",
    "    print('Коробка №2')\n",
    "elif length > 2:\n",
    "    print('Упаковка для лыж')\n",
    "else: print('Стандартная коробка №3')"
   ]
  },
  {
   "cell_type": "markdown",
   "metadata": {},
   "source": [
    "## Задание 5"
   ]
  },
  {
   "cell_type": "code",
   "execution_count": 15,
   "metadata": {},
   "outputs": [
    {
     "name": "stdout",
     "output_type": "stream",
     "text": [
      "Билет:123321\n",
      "Счастливый билет\n"
     ]
    }
   ],
   "source": [
    "ticket=input(\"Билет:\")\n",
    "temp = [int(i) for i in ticket]\n",
    "if sum(temp[:3]) == sum(temp[-3:]):\n",
    "    print('Счастливый билет')\n",
    "else:\n",
    "    print('Несчастливый билет')"
   ]
  },
  {
   "cell_type": "markdown",
   "metadata": {},
   "source": [
    "## Задание 6"
   ]
  },
  {
   "cell_type": "code",
   "execution_count": null,
   "metadata": {},
   "outputs": [],
   "source": [
    "import math\n",
    "\n",
    "fig=input('Фигура: ')\n",
    "if fig=='Круг':\n",
    "    r=input('Введите радиус круга:')\n",
    "    temp='{:.2f}'.format(3.14*(float(r)**2))\n",
    "elif fig=='Треугольник':\n",
    "    a=int(input('Введите сторону А:'))\n",
    "    b=int(input('Введите сторону В:'))\n",
    "    c=int(input('Введите сторону С:'))\n",
    "    temp='{:.2f}'.format(math.sqrt(((a+b+c)/2)*(((a+b+c)/2)-a)*(((a+b+c)/2)-b)*(((a+b+c)/2)-c)))\n",
    "elif fig=='Прямоугольник':\n",
    "    a=int(input('Введите сторону А:'))\n",
    "    b=int(input('Введите сторону В:'))\n",
    "    temp='{:.2f}'.format(a*b)\n",
    "print(temp)"
   ]
  },
  {
   "cell_type": "markdown",
   "metadata": {},
   "source": [
    "#### ПРИМЕЧАНИЕ\n",
    "Домашнее задание сдается ссылкой на репозиторий [GitHub](https://github.com/).\n",
    "Не сможем проверить или помочь, если вы пришлете:\n",
    "- файлы;\n",
    "- архивы;\n",
    "- скриншоты кода.\n",
    "\n",
    "Все обсуждения и консультации по выполнению домашнего задания ведутся только на соответствующем канале в slack.\n",
    "\n",
    "##### Как правильно задавать вопросы аспирантам, преподавателям и коллегам\n",
    "Прежде чем задать вопрос, попробуйте найти ответ в интернете. Навык самостоятельного поиска информации — один из важнейших. Каждый практикующий специалист любого уровня делает это ежедневно.\n",
    "\n",
    "Сформулируйте вопрос по алгоритму:  \n",
    "1) Что я делаю?  \n",
    "2) Какого результата я ожидаю?  \n",
    "3) Как фактический результат отличается от ожидаемого?  \n",
    "4) Что я уже попробовал сделать, чтобы исправить проблему?  \n",
    "\n",
    "По возможности прикрепите к вопросу скриншоты либо ссылки на код. Не выкладывайте все решение, оставляйте только проблемный и воспроизводимый участок кода."
   ]
  }
 ],
 "metadata": {
  "kernelspec": {
   "display_name": "Python 3",
   "language": "python",
   "name": "python3"
  },
  "language_info": {
   "codemirror_mode": {
    "name": "ipython",
    "version": 3
   },
   "file_extension": ".py",
   "mimetype": "text/x-python",
   "name": "python",
   "nbconvert_exporter": "python",
   "pygments_lexer": "ipython3",
   "version": "3.8.3"
  }
 },
 "nbformat": 4,
 "nbformat_minor": 2
}
