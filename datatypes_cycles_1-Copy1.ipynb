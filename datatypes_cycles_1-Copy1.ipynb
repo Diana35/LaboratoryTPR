{
 "cells": [
  {
   "cell_type": "code",
   "execution_count": null,
   "metadata": {},
   "outputs": [],
   "source": [
    "# Домашнее задание к лекции \"Введение в типы данных и циклы. Часть 1\""
   ]
  },
  {
   "cell_type": "code",
   "execution_count": 5,
   "metadata": {},
   "outputs": [
    {
     "name": "stdout",
     "output_type": "stream",
     "text": [
      "Введите слово: run\n",
      "u\n"
     ]
    }
   ],
   "source": [
    "## Задание 1\n",
    "  \n",
    "vvod = input(\"Введите слово: \")\n",
    " \n",
    "r = len(vvod) / 2\n",
    "if r % 2 == 0:\n",
    "    print(vvod[int(r)-1:int(r)])\n",
    "elif fst_Str % 2 !=0:\n",
    "    print(vvod[int(r)])"
   ]
  },
  {
   "cell_type": "code",
   "execution_count": 7,
   "metadata": {},
   "outputs": [
    {
     "name": "stdout",
     "output_type": "stream",
     "text": [
      "Введите число: 3\n",
      "5\n",
      "6\n",
      "0\n",
      "11\n"
     ]
    }
   ],
   "source": [
    "## Задание 2\n",
    "\n",
    "vvod = input(\"Введите число: \")\n",
    "s = int(input())\n",
    "sum = 0\n",
    "while s != 0:\n",
    "    sum += s\n",
    "    s = int(input())\n",
    " \n",
    "print(sum)\n",
    "\n"
   ]
  },
  {
   "cell_type": "code",
   "execution_count": null,
   "metadata": {},
   "outputs": [],
   "source": [
    "## Задание 3\n",
    "\n",
    "b=input('Boys names: ').split()\n",
    "g=input('Girls names: ').split()\n",
    "b.sort()\n",
    "g.sort()\n",
    "if (len(b)!=len(g)):\n",
    "    ptint=('Внимание, кто-то может остаться без пары!')\n",
    "else:\n",
    "    print('Идеальные пары:')\n",
    "for i,j in zip(b,g):\n",
    "    print(i,' и ',j)\n",
    "    "
   ]
  },
  {
   "cell_type": "code",
   "execution_count": null,
   "metadata": {},
   "outputs": [],
   "source": [
    "## Задание 4\n",
    "\n",
    "countries_temperature = [\n",
    "    ['Thailand', [75.2, 77, 78.8, 73.4, 68, 75.2, 77]],\n",
    "    ['Germany', [57.2, 55.4, 59, 59, 53.6]],\n",
    "    ['Russia', [35.6, 37.4, 39.2, 41, 42.8, 39.2, 35.6]],\n",
    "    ['Poland', [50, 50, 53.6, 57.2, 55.4, 55.4]]]\n",
    "\n",
    "i=0 \n",
    "temp=len(countries_temperature)\n",
    "for i in range(temp):\n",
    "    S=sum(countries_temperature[i][1])/len(countries_temperature[i][1])\n",
    "    print(countries_temperature[i][0]+' - '+'{:.1f}'.format((5/9)*(S-32))+'C')\n",
    "    i+=1\n"
   ]
  },
  {
   "cell_type": "code",
   "execution_count": null,
   "metadata": {},
   "outputs": [],
   "source": [
    "## Задание 5\n",
    "\n",
    "Users=[]\n",
    "temp=len(stream)\n",
    "for i in range(temp):\n",
    "    stream[i]=stream[i].split(',')\n",
    "    Users.append(stream[i][1])\n",
    "    i+=1\n",
    "Users1=set(Users)\n",
    "S=0\n",
    "for i in range(len(stream)):\n",
    "    S+=int(stream[i][2])\n",
    "    i+=1\n",
    "print('Среднее количество просмотров на уникального пользователя:',S/len(Users1))"
   ]
  },
  {
   "cell_type": "code",
   "execution_count": null,
   "metadata": {},
   "outputs": [],
   "source": [
    "## Задание 6\n",
    "\n",
    "\n",
    "list=input('Numbers ').split()\n",
    "list1=[]\n",
    "i=0\n",
    "for i in list:\n",
    "    if i not in list1:\n",
    "            list1.append(i)\n",
    "print(' '.join(list1))\n"
   ]
  },
  {
   "cell_type": "markdown",
   "metadata": {},
   "source": [
    "#### ПРИМЕЧАНИЕ\n",
    "Домашнее задание сдается ссылкой на репозиторий [GitHub](https://github.com/).\n",
    "Не сможем проверить или помочь, если вы пришлете:\n",
    "- файлы;\n",
    "- архивы;\n",
    "- скриншоты кода.\n",
    "\n",
    "Все обсуждения и консультации по выполнению домашнего задания ведутся только на соответствующем канале в slack.\n",
    "\n",
    "##### Как правильно задавать вопросы аспирантам, преподавателям и коллегам\n",
    "Прежде чем задать вопрос, попробуйте найти ответ в интернете. Навык самостоятельного поиска информации — один из важнейших. Каждый практикующий специалист любого уровня делает это ежедневно.\n",
    "\n",
    "Сформулируйте вопрос по алгоритму:  \n",
    "1) Что я делаю?  \n",
    "2) Какого результата я ожидаю?  \n",
    "3) Как фактический результат отличается от ожидаемого?  \n",
    "4) Что я уже попробовал сделать, чтобы исправить проблему?  \n",
    "\n",
    "По возможности прикрепите к вопросу скриншоты либо ссылки на код. Не выкладывайте все решение, оставляйте только проблемный и воспроизводимый участок кода.\n"
   ]
  }
 ],
 "metadata": {
  "kernelspec": {
   "display_name": "Python 3",
   "language": "python",
   "name": "python3"
  },
  "language_info": {
   "codemirror_mode": {
    "name": "ipython",
    "version": 3
   },
   "file_extension": ".py",
   "mimetype": "text/x-python",
   "name": "python",
   "nbconvert_exporter": "python",
   "pygments_lexer": "ipython3",
   "version": "3.8.3"
  }
 },
 "nbformat": 4,
 "nbformat_minor": 2
}
